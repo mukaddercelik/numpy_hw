{
 "cells": [
  {
   "cell_type": "markdown",
   "id": "62e06e08",
   "metadata": {},
   "source": [
    "<center> <h1 style=\"color:magenta\"> Numpy Compherensive Quiz</h1></center>"
   ]
  },
  {
   "cell_type": "code",
   "execution_count": 75,
   "id": "e29a4d07",
   "metadata": {},
   "outputs": [],
   "source": [
    "# Kütüphaneleri buraya import edin\n",
    "import numpy as np\n",
    "import matplotlib.pyplot as plt\n",
    "import math"
   ]
  },
  {
   "cell_type": "markdown",
   "id": "6f95c088",
   "metadata": {},
   "source": [
    "<center> <h2 style=\"color:blue\"> Question 1 </h2></center>"
   ]
  },
  {
   "cell_type": "markdown",
   "id": "d4f70164",
   "metadata": {},
   "source": [
    "__Question:__ Aşağıda tanımlanan matrisin istenilen özelliklerini bulun."
   ]
  },
  {
   "cell_type": "markdown",
   "id": "6f2795fe",
   "metadata": {},
   "source": [
    "$$\n",
    "\\begin{bmatrix}\n",
    "7 & -88 & 11 \\\\\n",
    "-3 & 7 & 12 \\\\\n",
    "-4 & 5 & -99 \\\\\n",
    "3 & 8 & -2 \\\\\n",
    "\\end{bmatrix}$$"
   ]
  },
  {
   "cell_type": "markdown",
   "id": "5add269a",
   "metadata": {},
   "source": [
    "- Bu matrisi __numpy__ ile __tanımlayın__.\n",
    "- Bu Matris kaç boyutludur. __Satır__ ve __sütun__ sayısını bulun.\n",
    "- Bu matrisin __satır bazında__ en __küçük__ elemanlarını bulun.\n",
    "- -88 değerini 101 ile __güncelleyin__.\n",
    "- -99 değerini 0 ile __güncelleyin__.\n",
    "- Bu matirisin __2x12__ olarak yeniden boyutlandırın."
   ]
  },
  {
   "cell_type": "markdown",
   "id": "d924d9c8",
   "metadata": {},
   "source": [
    "__Answer:__"
   ]
  },
  {
   "cell_type": "code",
   "execution_count": 45,
   "id": "04c6dee8",
   "metadata": {},
   "outputs": [],
   "source": [
    "array_1 = np.array([[7,-88,11],\n",
    "                    [-3,7,12],\n",
    "                    [-4,5,-99],\n",
    "                    [3,8,-2]])"
   ]
  },
  {
   "cell_type": "code",
   "execution_count": 84,
   "id": "81d614cb",
   "metadata": {},
   "outputs": [
    {
     "data": {
      "text/plain": [
       "array([[  7, 101,  11,  -3,   7,  12],\n",
       "       [ -4,   5,   0,   3,   8,  -2]])"
      ]
     },
     "execution_count": 84,
     "metadata": {},
     "output_type": "execute_result"
    }
   ],
   "source": [
    "np.shape(array_1)\n",
    "np.min(array_1, axis=1)\n",
    "array_1[0,1]=101\n",
    "array_1[2,2]=0\n",
    "new_array = array_1.reshape(2,6)\n",
    "new_array \n",
    "#2*12 matrisine yetecek kadar veri yok o yüzden 2*6 ya çevirdim"
   ]
  },
  {
   "cell_type": "raw",
   "id": "6506ca72",
   "metadata": {},
   "source": []
  },
  {
   "cell_type": "markdown",
   "id": "239d1563",
   "metadata": {},
   "source": [
    "<center> <h2 style=\"color:blue\"> Question 2</h2></center>"
   ]
  },
  {
   "cell_type": "markdown",
   "id": "7acb87a1",
   "metadata": {},
   "source": [
    "__Question:__ İçinde bir sınıftaki öğrencilerin quiz notlarını bulunduran \"__marks.npy__\" dosyasını __import__ edip aşağıda istenen değerleri bulun."
   ]
  },
  {
   "cell_type": "markdown",
   "id": "80375a6f",
   "metadata": {},
   "source": [
    "- veri setinin içindeki __veri sayısı__\n",
    "- en __yüksek__ not\n",
    "- en __düşük__ not\n",
    "- notların __medyanı__\n",
    "- notların __açıklığı__\n",
    "- not __ortalaması__\n",
    "- notların __standart sapması__\n",
    "- notların __varyansı__"
   ]
  },
  {
   "cell_type": "markdown",
   "id": "91c890c0",
   "metadata": {},
   "source": [
    "__Not:__ Veri setini import etmek için __numpy.load()__ fonksiyonunu kullanın. (Githubdan veri setini indirip jupytere yüklemeyi unutmayın.)"
   ]
  },
  {
   "cell_type": "markdown",
   "id": "c42d4077",
   "metadata": {},
   "source": [
    "__Answer:__"
   ]
  },
  {
   "cell_type": "code",
   "execution_count": 94,
   "id": "420ac18e",
   "metadata": {},
   "outputs": [],
   "source": [
    "quiz_notları = np.load(\"marks.npy\")"
   ]
  },
  {
   "cell_type": "code",
   "execution_count": 105,
   "id": "f88eda14",
   "metadata": {},
   "outputs": [
    {
     "name": "stdout",
     "output_type": "stream",
     "text": [
      "97\n"
     ]
    }
   ],
   "source": [
    "len(quiz_notları)\n",
    "np.max(quiz_notları)\n",
    "np.min(quiz_notları)\n",
    "np.median(quiz_notları)\n",
    "np.mean(quiz_notları)\n",
    "np.std(quiz_notları)\n",
    "np.var(quiz_notları)\n",
    "#açıklık için fonksiyon bulamadım ama pes etmiyorum kendim bulucam\n",
    "a=np.min(quiz_notları)\n",
    "b=np.max(quiz_notları)\n",
    "acıklık = b-a\n",
    "print(acıklık)"
   ]
  },
  {
   "cell_type": "markdown",
   "id": "3b29e5ef",
   "metadata": {},
   "source": [
    "<center> <h2 style=\"color:blue\"> Question 3  </h2></center>"
   ]
  },
  {
   "cell_type": "markdown",
   "id": "6e79052e",
   "metadata": {},
   "source": [
    "__Question:__ Aşağıda tanım kümesi verilen fonksiyonu görselleştirin."
   ]
  },
  {
   "cell_type": "markdown",
   "id": "61f2ddb1",
   "metadata": {},
   "source": [
    "$$ x ~~ \\epsilon ~~ (0,15)$$\n",
    "\n",
    "$$ f(x) = \\frac {sin(x) \\cdot \\sqrt {x}} {x^2 + 1}  $$"
   ]
  },
  {
   "cell_type": "markdown",
   "id": "069d408f",
   "metadata": {},
   "source": [
    "__Answer:__"
   ]
  },
  {
   "cell_type": "code",
   "execution_count": 72,
   "id": "b45f8265",
   "metadata": {},
   "outputs": [],
   "source": [
    "x = np.arange(0,15,0.1)"
   ]
  },
  {
   "cell_type": "code",
   "execution_count": 73,
   "id": "c2d98d8a",
   "metadata": {},
   "outputs": [
    {
     "data": {
      "text/plain": [
       "[<matplotlib.lines.Line2D at 0x2a9b4fd2a50>]"
      ]
     },
     "execution_count": 73,
     "metadata": {},
     "output_type": "execute_result"
    },
    {
     "data": {
      "image/png": "[encoded data removed]",
      "text/plain": [
       "<Figure size 640x480 with 1 Axes>"
      ]
     },
     "metadata": {},
     "output_type": "display_data"
    }
   ],
   "source": [
    "y = np.sin(x)*(x**0.5)/(x**2+1)\n",
    "plt.plot(x,y)"
   ]
  },
  {
   "cell_type": "markdown",
   "id": "7fb69221",
   "metadata": {},
   "source": [
    "<center> <h2 style=\"color:blue\"> Question 4 </h2></center>"
   ]
  },
  {
   "cell_type": "markdown",
   "id": "d9cfdde9",
   "metadata": {},
   "source": [
    "__Question:__ Aşağıdaki matrisi numpy ile tanımlayıp istenilen değerleri hesaplayın."
   ]
  },
  {
   "cell_type": "markdown",
   "id": "ebf0a54b",
   "metadata": {},
   "source": [
    "$$\n",
    "\\begin{bmatrix}\n",
    "7 & -8 & 11 \\\\\n",
    "-4 & 5 & 1 \\\\\n",
    "3 & 8 & -2 \\\\\n",
    "\\end{bmatrix}$$"
   ]
  },
  {
   "cell_type": "markdown",
   "id": "ca6f8cb9",
   "metadata": {},
   "source": [
    "- Matrisin __Determinantı__\n",
    "- Matrisin __Özdeğerleri__ (eigen values)\n",
    "- Matrisin __Tersi__ (inverse)\n",
    "- Matrisin __Condition Number'ı__\n",
    "- Matrisin __Norm'u__"
   ]
  },
  {
   "cell_type": "markdown",
   "id": "939a4ea7",
   "metadata": {},
   "source": [
    "__Answer:__"
   ]
  },
  {
   "cell_type": "code",
   "execution_count": 56,
   "id": "3448aa29",
   "metadata": {},
   "outputs": [],
   "source": [
    "array_3 = ([[7,-8,11],\n",
    "           [-4,5,1],\n",
    "           [3,8,-2]])"
   ]
  },
  {
   "cell_type": "code",
   "execution_count": 61,
   "id": "189909c7",
   "metadata": {},
   "outputs": [
    {
     "data": {
      "text/plain": [
       "18.788294228055936"
      ]
     },
     "execution_count": 61,
     "metadata": {},
     "output_type": "execute_result"
    }
   ],
   "source": [
    "np.linalg.det(array_3)\n",
    "np.linalg.eigvals(array_3)\n",
    "np.linalg.inv(array_3)\n",
    "np.linalg.cond(array_3)\n",
    "np.linalg.norm(array_3)"
   ]
  },
  {
   "cell_type": "markdown",
   "id": "caeb04cc",
   "metadata": {},
   "source": [
    "<center> <h2 style=\"color:blue\"> Question 5</h2></center>"
   ]
  },
  {
   "cell_type": "markdown",
   "id": "6cd27362",
   "metadata": {},
   "source": [
    "__Question:__  Aşağıda verilen __A__ matrisi ile __B__ matrisini __matris çarpımı__ ile çarpın."
   ]
  },
  {
   "cell_type": "markdown",
   "id": "4418ffd1",
   "metadata": {},
   "source": [
    "$$ A = \\begin{bmatrix}\n",
    "1 & 2 \\\\\n",
    "4 & 5  \n",
    "\\end{bmatrix}  $$\n",
    "<br> <br>\n",
    "$$ B = [4 ~~ 5] $$"
   ]
  },
  {
   "cell_type": "markdown",
   "id": "03eb1c8c",
   "metadata": {},
   "source": [
    "__Answer:__"
   ]
  },
  {
   "cell_type": "code",
   "execution_count": 77,
   "id": "e8459a02",
   "metadata": {},
   "outputs": [],
   "source": [
    "matrix_A = np.array([[1,2],\n",
    "                    [4,5]])\n",
    "matrix_B = np.array([4,5])"
   ]
  },
  {
   "cell_type": "code",
   "execution_count": 78,
   "id": "ccf74f09",
   "metadata": {},
   "outputs": [
    {
     "data": {
      "text/plain": [
       "array([14, 41])"
      ]
     },
     "execution_count": 78,
     "metadata": {},
     "output_type": "execute_result"
    }
   ],
   "source": [
    "np.matmul(matrix_A,matrix_B)"
   ]
  },
  {
   "cell_type": "markdown",
   "id": "f542f599",
   "metadata": {},
   "source": [
    "<center> <h2 style=\"color:blue\"> Question 6 </h2></center>"
   ]
  },
  {
   "cell_type": "markdown",
   "id": "d47d2137",
   "metadata": {},
   "source": [
    "__Question:__  Aşağıda, $  Ax=B $ formatında verilen matrisin çözüm kümesini bulunuz."
   ]
  },
  {
   "cell_type": "markdown",
   "id": "50f106f7",
   "metadata": {},
   "source": [
    "\n",
    "$$ \n",
    "\\begin{bmatrix}\n",
    "1 & 2 & 3 \\\\\n",
    "4 & 5 & 6 \\\\\n",
    "7 & 8 & 9 \\\\\n",
    "\\end{bmatrix} \\cdot x =  \n",
    "\\begin{bmatrix}\n",
    "2 \\\\\n",
    "0 \\\\\n",
    "-1 \\\\\n",
    "\\end{bmatrix} \n",
    "$$"
   ]
  },
  {
   "cell_type": "markdown",
   "id": "5ff1b23f",
   "metadata": {},
   "source": [
    "__Answer:__"
   ]
  },
  {
   "cell_type": "code",
   "execution_count": 85,
   "id": "50702aca",
   "metadata": {},
   "outputs": [],
   "source": [
    "matrix_a = np.array([[1,2,3],\n",
    "                    [4,5,6],\n",
    "                    [7,8,9]])\n",
    "matrix_b = np.array([[2],\n",
    "                    [0],\n",
    "                    [-1]])"
   ]
  },
  {
   "cell_type": "code",
   "execution_count": 92,
   "id": "5e9d1b7b",
   "metadata": {},
   "outputs": [
    {
     "data": {
      "text/plain": [
       "array([[-4.50359963e+15],\n",
       "       [ 9.00719925e+15],\n",
       "       [-4.50359963e+15]])"
      ]
     },
     "execution_count": 92,
     "metadata": {},
     "output_type": "execute_result"
    }
   ],
   "source": [
    "np.linalg.solve(matrix_a,matrix_b)"
   ]
  },
  {
   "cell_type": "markdown",
   "id": "d90055a3",
   "metadata": {},
   "source": [
    "<center> <b> İbrahim TUNÇ</b></center>"
   ]
  }
 ],
 "metadata": {
  "kernelspec": {
   "display_name": "Python 3 (ipykernel)",
   "language": "python",
   "name": "python3"
  },
  "language_info": {
   "codemirror_mode": {
    "name": "ipython",
    "version": 3
   },
   "file_extension": ".py",
   "mimetype": "text/x-python",
   "name": "python",
   "nbconvert_exporter": "python",
   "pygments_lexer": "ipython3",
   "version": "3.11.5"
  }
 },
 "nbformat": 4,
 "nbformat_minor": 5
}
